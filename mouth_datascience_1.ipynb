{
 "cells": [
  {
   "cell_type": "markdown",
   "metadata": {},
   "source": [
    "# importing necessary libraries"
   ]
  },
  {
   "cell_type": "code",
   "execution_count": 40,
   "metadata": {},
   "outputs": [],
   "source": [
    "# import data modules\n",
    "import pandas as pd \n",
    "import numpy as np\n",
    "import yaml\n",
    "\n",
    "#statistical modules\n",
    "from statsmodels.stats.contingency_tables import mcnemar\n",
    "\n"
   ]
  },
  {
   "cell_type": "code",
   "execution_count": 41,
   "metadata": {},
   "outputs": [
    {
     "name": "stdout",
     "output_type": "stream",
     "text": [
      "Overwriting comfig.yaml\n"
     ]
    }
   ],
   "source": [
    "%%writefile comfig.yaml\n",
    "#csvfiles\n",
    "gum_bleeding_after: gum bleeding_2.csv\n",
    "gum_bleeding_before: gum_bleeding_1.csv"
   ]
  },
  {
   "cell_type": "markdown",
   "metadata": {},
   "source": [
    "# Loading and reading data"
   ]
  },
  {
   "cell_type": "code",
   "execution_count": 42,
   "metadata": {},
   "outputs": [
    {
     "name": "stdout",
     "output_type": "stream",
     "text": [
      "{'gum_bleeding_after': 'gum bleeding_2.csv', 'gum_bleeding_before': 'gum_bleeding_1.csv'}\n"
     ]
    }
   ],
   "source": [
    "# opening,loading and reading csv files\n",
    "path = \"comfig.yaml\"\n",
    "with open (path, 'r') as stream:\n",
    "    mm_config = yaml.safe_load(stream)\n",
    "print(mm_config)\n",
    "gum_bleeding_before = mm_config[\"gum_bleeding_before\"]\n",
    "gum_bleeding_after = mm_config[\"gum_bleeding_after\"]\n",
    "\n",
    "gum_bleeding_before= pd.read_csv(gum_bleeding_before)\n",
    "gum_bleeding_after= pd.read_csv(gum_bleeding_after)\n",
    "df_gum_bleeding_before = gum_bleeding_before.copy()\n",
    "df_gum_bleeding_after= gum_bleeding_after.copy()\n"
   ]
  },
  {
   "cell_type": "code",
   "execution_count": 43,
   "metadata": {},
   "outputs": [
    {
     "data": {
      "text/html": [
       "<div>\n",
       "<style scoped>\n",
       "    .dataframe tbody tr th:only-of-type {\n",
       "        vertical-align: middle;\n",
       "    }\n",
       "\n",
       "    .dataframe tbody tr th {\n",
       "        vertical-align: top;\n",
       "    }\n",
       "\n",
       "    .dataframe thead th {\n",
       "        text-align: right;\n",
       "    }\n",
       "</style>\n",
       "<table border=\"1\" class=\"dataframe\">\n",
       "  <thead>\n",
       "    <tr style=\"text-align: right;\">\n",
       "      <th></th>\n",
       "      <th>Weeks</th>\n",
       "      <th>participant 1</th>\n",
       "      <th>participant 2</th>\n",
       "      <th>participant 3</th>\n",
       "      <th>participant 4</th>\n",
       "      <th>participant 5</th>\n",
       "    </tr>\n",
       "  </thead>\n",
       "  <tbody>\n",
       "    <tr>\n",
       "      <th>0</th>\n",
       "      <td>22/01/2024</td>\n",
       "      <td>No</td>\n",
       "      <td>No</td>\n",
       "      <td>Yes</td>\n",
       "      <td>No</td>\n",
       "      <td>No</td>\n",
       "    </tr>\n",
       "    <tr>\n",
       "      <th>1</th>\n",
       "      <td>23/01/2024</td>\n",
       "      <td>Yes</td>\n",
       "      <td>No</td>\n",
       "      <td>Yes</td>\n",
       "      <td>No</td>\n",
       "      <td>No</td>\n",
       "    </tr>\n",
       "    <tr>\n",
       "      <th>2</th>\n",
       "      <td>24/01/2024</td>\n",
       "      <td>Yes</td>\n",
       "      <td>No</td>\n",
       "      <td>No</td>\n",
       "      <td>No</td>\n",
       "      <td>No</td>\n",
       "    </tr>\n",
       "    <tr>\n",
       "      <th>3</th>\n",
       "      <td>25/01/2024</td>\n",
       "      <td>Yes</td>\n",
       "      <td>No</td>\n",
       "      <td>No</td>\n",
       "      <td>Yes</td>\n",
       "      <td>No</td>\n",
       "    </tr>\n",
       "    <tr>\n",
       "      <th>4</th>\n",
       "      <td>26/01/2024</td>\n",
       "      <td>No</td>\n",
       "      <td>Yes</td>\n",
       "      <td>No</td>\n",
       "      <td>No</td>\n",
       "      <td>No</td>\n",
       "    </tr>\n",
       "  </tbody>\n",
       "</table>\n",
       "</div>"
      ],
      "text/plain": [
       "        Weeks participant 1 participant 2 participant 3 participant 4  \\\n",
       "0  22/01/2024            No            No           Yes            No   \n",
       "1  23/01/2024           Yes            No           Yes            No   \n",
       "2  24/01/2024           Yes            No            No            No   \n",
       "3  25/01/2024           Yes            No            No           Yes   \n",
       "4  26/01/2024            No           Yes            No            No   \n",
       "\n",
       "  participant 5  \n",
       "0            No  \n",
       "1            No  \n",
       "2            No  \n",
       "3            No  \n",
       "4            No  "
      ]
     },
     "execution_count": 43,
     "metadata": {},
     "output_type": "execute_result"
    }
   ],
   "source": [
    "# gum bleeding before\n",
    "\n",
    "df_gum_bleeding_before.head()"
   ]
  },
  {
   "cell_type": "code",
   "execution_count": 44,
   "metadata": {},
   "outputs": [
    {
     "data": {
      "text/html": [
       "<div>\n",
       "<style scoped>\n",
       "    .dataframe tbody tr th:only-of-type {\n",
       "        vertical-align: middle;\n",
       "    }\n",
       "\n",
       "    .dataframe tbody tr th {\n",
       "        vertical-align: top;\n",
       "    }\n",
       "\n",
       "    .dataframe thead th {\n",
       "        text-align: right;\n",
       "    }\n",
       "</style>\n",
       "<table border=\"1\" class=\"dataframe\">\n",
       "  <thead>\n",
       "    <tr style=\"text-align: right;\">\n",
       "      <th></th>\n",
       "      <th>Weeks</th>\n",
       "      <th>participant 1</th>\n",
       "      <th>participant 2</th>\n",
       "      <th>participant 3</th>\n",
       "      <th>participant 4</th>\n",
       "      <th>participant 5</th>\n",
       "    </tr>\n",
       "  </thead>\n",
       "  <tbody>\n",
       "    <tr>\n",
       "      <th>0</th>\n",
       "      <td>19/02/2024</td>\n",
       "      <td>No</td>\n",
       "      <td>No</td>\n",
       "      <td>No</td>\n",
       "      <td>No</td>\n",
       "      <td>No</td>\n",
       "    </tr>\n",
       "    <tr>\n",
       "      <th>1</th>\n",
       "      <td>20/02/2024</td>\n",
       "      <td>No</td>\n",
       "      <td>No</td>\n",
       "      <td>No</td>\n",
       "      <td>No</td>\n",
       "      <td>No</td>\n",
       "    </tr>\n",
       "    <tr>\n",
       "      <th>2</th>\n",
       "      <td>21/02/2024</td>\n",
       "      <td>No</td>\n",
       "      <td>No</td>\n",
       "      <td>No</td>\n",
       "      <td>No</td>\n",
       "      <td>No</td>\n",
       "    </tr>\n",
       "    <tr>\n",
       "      <th>3</th>\n",
       "      <td>22/02/2024</td>\n",
       "      <td>No</td>\n",
       "      <td>No</td>\n",
       "      <td>No</td>\n",
       "      <td>No</td>\n",
       "      <td>No</td>\n",
       "    </tr>\n",
       "    <tr>\n",
       "      <th>4</th>\n",
       "      <td>23/02/2024</td>\n",
       "      <td>No</td>\n",
       "      <td>No</td>\n",
       "      <td>No</td>\n",
       "      <td>No</td>\n",
       "      <td>No</td>\n",
       "    </tr>\n",
       "  </tbody>\n",
       "</table>\n",
       "</div>"
      ],
      "text/plain": [
       "        Weeks participant 1 participant 2 participant 3 participant 4  \\\n",
       "0  19/02/2024            No            No            No            No   \n",
       "1  20/02/2024            No            No            No            No   \n",
       "2  21/02/2024            No            No            No            No   \n",
       "3  22/02/2024            No            No            No            No   \n",
       "4  23/02/2024            No            No            No            No   \n",
       "\n",
       "  participant 5  \n",
       "0            No  \n",
       "1            No  \n",
       "2            No  \n",
       "3            No  \n",
       "4            No  "
      ]
     },
     "execution_count": 44,
     "metadata": {},
     "output_type": "execute_result"
    }
   ],
   "source": [
    "df_gum_bleeding_after.head()"
   ]
  },
  {
   "cell_type": "markdown",
   "metadata": {},
   "source": [
    "## Before"
   ]
  },
  {
   "cell_type": "code",
   "execution_count": 45,
   "metadata": {},
   "outputs": [],
   "source": [
    "# grouping the responses\n",
    "\n",
    "No_responses = []\n",
    "Yes_responses = []\n",
    "\n",
    "for participants in df_gum_bleeding_before.columns[1:]:\n",
    "    No = df_gum_bleeding_before[participants][[x=='No' for x in df_gum_bleeding_before[participants]]]\n",
    "    Yes = df_gum_bleeding_before[participants][[x=='Yes' for x in df_gum_bleeding_before[participants]]]\n",
    "    No_responses.append(No)\n",
    "    Yes_responses.append(Yes)\n"
   ]
  },
  {
   "cell_type": "code",
   "execution_count": 46,
   "metadata": {},
   "outputs": [],
   "source": [
    "flattened_no_responseb4 = [item for sublist in No_responses for item in sublist]\n",
    "flattened_yes_responseb4 = [item for sublist in Yes_responses for item in sublist]"
   ]
  },
  {
   "cell_type": "markdown",
   "metadata": {},
   "source": [
    "## After"
   ]
  },
  {
   "cell_type": "code",
   "execution_count": 47,
   "metadata": {},
   "outputs": [],
   "source": [
    "# grouping the responses\n",
    "\n",
    "No_responses = []\n",
    "Yes_responses = []\n",
    "\n",
    "for participants in df_gum_bleeding_after.columns[1:]:\n",
    "    No = df_gum_bleeding_after[participants][[x=='No' for x in df_gum_bleeding_after[participants]]]\n",
    "    Yes = df_gum_bleeding_after[participants][[x=='Yes' for x in df_gum_bleeding_after[participants]]]\n",
    "    No_responses.append(No)\n",
    "    Yes_responses.append(Yes)\n",
    "\n",
    "flattened_no_responseafter = [item for sublist in No_responses for item in sublist]\n",
    "flattened_yes_responseafter = [item for sublist in Yes_responses for item in sublist]"
   ]
  },
  {
   "cell_type": "code",
   "execution_count": 48,
   "metadata": {},
   "outputs": [],
   "source": [
    "df_dict = {\n",
    "    'Yes':[len(flattened_yes_responseb4),len(flattened_yes_responseafter)],\n",
    "    'No': [len(flattened_no_responseb4),len(flattened_no_responseafter)]\n",
    "}"
   ]
  },
  {
   "cell_type": "code",
   "execution_count": 49,
   "metadata": {},
   "outputs": [
    {
     "data": {
      "text/plain": [
       "{'Yes': [21, 9], 'No': [59, 131]}"
      ]
     },
     "execution_count": 49,
     "metadata": {},
     "output_type": "execute_result"
    }
   ],
   "source": [
    "df_dict"
   ]
  },
  {
   "cell_type": "code",
   "execution_count": 50,
   "metadata": {},
   "outputs": [
    {
     "data": {
      "text/html": [
       "<div>\n",
       "<style scoped>\n",
       "    .dataframe tbody tr th:only-of-type {\n",
       "        vertical-align: middle;\n",
       "    }\n",
       "\n",
       "    .dataframe tbody tr th {\n",
       "        vertical-align: top;\n",
       "    }\n",
       "\n",
       "    .dataframe thead th {\n",
       "        text-align: right;\n",
       "    }\n",
       "</style>\n",
       "<table border=\"1\" class=\"dataframe\">\n",
       "  <thead>\n",
       "    <tr style=\"text-align: right;\">\n",
       "      <th></th>\n",
       "      <th>Yes</th>\n",
       "      <th>No</th>\n",
       "    </tr>\n",
       "  </thead>\n",
       "  <tbody>\n",
       "    <tr>\n",
       "      <th>Before_mouthwash</th>\n",
       "      <td>21</td>\n",
       "      <td>59</td>\n",
       "    </tr>\n",
       "    <tr>\n",
       "      <th>After_mouthwash</th>\n",
       "      <td>9</td>\n",
       "      <td>131</td>\n",
       "    </tr>\n",
       "  </tbody>\n",
       "</table>\n",
       "</div>"
      ],
      "text/plain": [
       "                  Yes   No\n",
       "Before_mouthwash   21   59\n",
       "After_mouthwash     9  131"
      ]
     },
     "execution_count": 50,
     "metadata": {},
     "output_type": "execute_result"
    }
   ],
   "source": [
    "df = pd.DataFrame(df_dict, index=[\"Before_mouthwash\",\"After_mouthwash\"])\n",
    "\n",
    "df"
   ]
  },
  {
   "cell_type": "code",
   "execution_count": 51,
   "metadata": {},
   "outputs": [
    {
     "name": "stdout",
     "output_type": "stream",
     "text": [
      "pvalue      2.81354493977637e-09\n",
      "statistic   35.30882352941177\n",
      "pvalue      1.3328142940540713e-09\n",
      "statistic   36.76470588235294\n"
     ]
    }
   ],
   "source": [
    "from statsmodels.stats.contingency_tables import mcnemar\n",
    "\n",
    "stat_data = [[21,59],[9,131]]\n",
    "\n",
    "print(mcnemar(stat_data, exact= False))\n",
    "\n",
    "print(mcnemar(stat_data, exact= False, correction= False))"
   ]
  }
 ],
 "metadata": {
  "kernelspec": {
   "display_name": "Python 3 (ipykernel)",
   "language": "python",
   "name": "python3"
  },
  "language_info": {
   "codemirror_mode": {
    "name": "ipython",
    "version": 3
   },
   "file_extension": ".py",
   "mimetype": "text/x-python",
   "name": "python",
   "nbconvert_exporter": "python",
   "pygments_lexer": "ipython3",
   "version": "3.12.0"
  }
 },
 "nbformat": 4,
 "nbformat_minor": 4
}
