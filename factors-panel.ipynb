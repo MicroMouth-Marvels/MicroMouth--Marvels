{
 "cells": [
  {
   "cell_type": "code",
   "execution_count": null,
   "metadata": {},
   "outputs": [],
   "source": [
    "from bokeh.plotting import figure, show, output_file\n",
    "from bokeh.models import ColumnDataSource, Select\n",
    "from bokeh.layouts import column\n",
    "from bokeh.io import curdoc\n",
    "import pandas as pd\n",
    "import yaml\n"
   ]
  },
  {
   "cell_type": "code",
   "execution_count": null,
   "metadata": {},
   "outputs": [],
   "source": [
    "\n",
    "def get_config():\n",
    "    with open(\"config.yml\", \"r\") as my_config:\n",
    "        config = yaml.safe_load(my_config)\n",
    "    return config\n",
    "config = get_config()\n",
    "        \n",
    "df_before_ph = pd.read_csv(config['ph'])\n",
    "df_before_plaque = pd.read_csv(config['plaque'])\n",
    "df_before_gum_bleeding = pd.read_csv(config['gum_bleeding'])\n",
    "df_lifesum = pd.read_csv(config['lifesum'])\n",
    "\n",
    "df_after_ph = pd.read_csv(config['ph2'])\n",
    "df_after_plaque = pd.read_csv(config['plaque2'])\n",
    "df_after_gum_bleeding = pd.read_csv(config['gum_bleeding2'])\n",
    "\n",
    "# Specified colors (corrected hex codes)\n",
    "colors = ['#FE7F2D', '#619B8A', '#FCCA46', '#A1C181', '#233D4D']"
   ]
  },
  {
   "cell_type": "code",
   "execution_count": null,
   "metadata": {},
   "outputs": [],
   "source": [
    "def create_plot(source_data):\n",
    "    p = figure(plot_width=800, plot_height=250, x_axis_label='Weeks', y_axis_label='Value')\n",
    "    p.line('weeks', 'value', source=source_data, line_width=2)\n",
    "    return p"
   ]
  },
  {
   "cell_type": "code",
   "execution_count": null,
   "metadata": {},
   "outputs": [],
   "source": [
    "def update_plot(attr, old, new):\n",
    "    if select.value == 'PH':\n",
    "        source.data = dict(weeks=df_ph['Weeks'], value=df_ph['Value'])\n",
    "    elif select.value == 'Plaque':\n",
    "        source.data = dict(weeks=df_plaque['Weeks'], value=df_plaque['Value'])\n",
    "    elif select.value == 'Gum Bleeding':\n",
    "        source.data = dict(weeks=df_gum_bleeding['Weeks'], value=df_gum_bleeding['Value'])\n",
    "    else:  # Lifesum\n",
    "        source.data = dict(weeks=df_lifesum['Weeks'], value=df_lifesum['Value'])\n",
    "    p.yaxis.axis_label = select.value\n"
   ]
  },
  {
   "cell_type": "code",
   "execution_count": null,
   "metadata": {},
   "outputs": [],
   "source": [
    "# Initial data\n",
    "source = ColumnDataSource(data=dict(weeks=[], value=[]))\n",
    "\n",
    "# Combo box for selection\n",
    "select = Select(title=\"Choose Data:\", value=\"PH\", options=[\"PH\", \"Plaque\", \"Gum Bleeding\", \"Lifesum\"])\n",
    "select.on_change('value', update_plot)\n",
    "\n",
    "# Create initial plot\n",
    "p = create_plot(source)\n",
    "\n",
    "# Arrange plots and widgets in a layout\n",
    "layout = column(select, p)\n",
    "\n",
    "# Add layout to the current document\n",
    "curdoc().add_root(layout)\n",
    "\n",
    "# Initial update to display default data\n",
    "update_plot(None, None, select.value)\n"
   ]
  }
 ],
 "metadata": {
  "kernelspec": {
   "display_name": "myenv",
   "language": "python",
   "name": "python3"
  },
  "language_info": {
   "codemirror_mode": {
    "name": "ipython",
    "version": 3
   },
   "file_extension": ".py",
   "mimetype": "text/x-python",
   "name": "python",
   "nbconvert_exporter": "python",
   "pygments_lexer": "ipython3",
   "version": "3.11.2"
  }
 },
 "nbformat": 4,
 "nbformat_minor": 2
}
