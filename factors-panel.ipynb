{
 "cells": [
  {
   "cell_type": "code",
   "execution_count": null,
   "metadata": {},
   "outputs": [],
   "source": [
    "from bokeh.plotting import figure, show, output_file\n",
    "from bokeh.models import ColumnDataSource, Select\n",
    "from bokeh.layouts import column\n",
    "from bokeh.io import curdoc\n",
    "import pandas as pd\n",
    "import yaml\n",
    "from bokeh.plotting import figure, curdoc\n",
    "from bokeh.models import ColumnDataSource, Select\n",
    "from bokeh.layouts import column"
   ]
  },
  {
   "cell_type": "code",
   "execution_count": null,
   "metadata": {},
   "outputs": [],
   "source": [
    "# Specified colors (corrected hex codes)\n",
    "colors = ['#FE7F2D', '#619B8A', '#FCCA46', '#A1C181', '#233D4D']"
   ]
  },
  {
   "cell_type": "code",
   "execution_count": null,
   "metadata": {},
   "outputs": [],
   "source": [
    "def create_plot(source_data):\n",
    "    p = figure(plot_width=800, plot_height=250, x_axis_label='Weeks', y_axis_label='Value')\n",
    "    p.line('weeks', 'value', source=source_data, line_width=2)\n",
    "    return p"
   ]
  },
  {
   "cell_type": "code",
   "execution_count": null,
   "metadata": {},
   "outputs": [],
   "source": [
    "import dash\n",
    "from dash import dcc, html\n",
    "from dash.dependencies import Input, Output\n",
    "import plotly.graph_objs as go\n",
    "import pandas as pd\n",
    "\n",
    "# Example DataFrames (load your data here)\n",
    "\n",
    "def get_config():\n",
    "    with open(\"config.yml\", \"r\") as my_config:\n",
    "        config = yaml.safe_load(my_config)\n",
    "    return config\n",
    "config = get_config()\n",
    "        \n",
    "df_before_ph = pd.read_csv(config['ph'])\n",
    "df_before_plaque = pd.read_csv(config['plaque'])\n",
    "df_before_gum_bleeding = pd.read_csv(config['gum_bleeding'])\n",
    "df_lifesum = pd.read_csv(config['lifesum'])\n",
    "\n",
    "df_after_ph = pd.read_csv(config['ph2'])\n",
    "df_after_plaque = pd.read_csv(config['plaque2'])\n",
    "df_after_gum_bleeding = pd.read_csv(config['gum_bleeding2'])\n",
    "# Load your Plaque and Gum Bleeding dataframes similarly\n",
    "\n",
    "app = dash.Dash(__name__)\n",
    "\n",
    "app.layout = html.Div([\n",
    "    dcc.Dropdown(\n",
    "        id='factor-select',\n",
    "        options=[\n",
    "            {'label': 'PH', 'value': 'PH'},\n",
    "            {'label': 'Plaque', 'value': 'Plaque'},\n",
    "            {'label': 'Gum Bleeding', 'value': 'GumBleeding'}\n",
    "        ],\n",
    "        value='PH'  # Default value\n",
    "    ),\n",
    "    dcc.Graph(id='before-plot'),\n",
    "    dcc.Graph(id='after-plot')\n",
    "])\n",
    "\n",
    "@app.callback(\n",
    "    [Output('before-plot', 'figure'),\n",
    "     Output('after-plot', 'figure')],\n",
    "    [Input('factor-select', 'value')]\n",
    ")\n",
    "def update_graph(selected_factor):\n",
    "    if selected_factor == 'PH':\n",
    "        df_before = df_before_ph\n",
    "        df_after = df_after_ph\n",
    "    elif selected_factor == 'Plaque':\n",
    "        # Assign df_before_plaque and df_after_plaque accordingly\n",
    "        pass\n",
    "    elif selected_factor == 'GumBleeding':\n",
    "        # Assign df_before_gum_bleeding and df_after_gum_bleeding accordingly\n",
    "        pass\n",
    "    \n",
    "    # Create traces for the \"before\" plot\n",
    "    data_before = []\n",
    "    for col in df_before.columns[1:]:  # Skip 'Weeks' column\n",
    "        data_before.append(go.Scatter(x=df_before['Weeks'], y=df_before[col], mode='lines', name=col))\n",
    "    \n",
    "    # Create traces for the \"after\" plot\n",
    "    data_after = []\n",
    "    for col in df_after.columns[1:]:  # Skip 'Weeks' column\n",
    "        data_after.append(go.Scatter(x=df_after['Weeks'], y=df_after[col], mode='lines', name=col))\n",
    "    \n",
    "    # Define the figure\n",
    "    fig_before = {'data': data_before, 'layout': go.Layout(title=f'{selected_factor} Before')}\n",
    "    fig_after = {'data': data_after, 'layout': go.Layout(title=f'{selected_factor} After')}\n",
    "    \n",
    "    return fig_before, fig_after\n",
    "\n",
    "if __name__ == '__main__':\n",
    "    app.run_server(debug=True)\n"
   ]
  }
 ],
 "metadata": {
  "kernelspec": {
   "display_name": "myenv",
   "language": "python",
   "name": "python3"
  },
  "language_info": {
   "codemirror_mode": {
    "name": "ipython",
    "version": 3
   },
   "file_extension": ".py",
   "mimetype": "text/x-python",
   "name": "python",
   "nbconvert_exporter": "python",
   "pygments_lexer": "ipython3",
   "version": "3.11.2"
  }
 },
 "nbformat": 4,
 "nbformat_minor": 2
}
