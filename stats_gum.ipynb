{
 "cells": [
  {
   "cell_type": "code",
   "execution_count": null,
   "metadata": {},
   "outputs": [],
   "source": [
    "import pandas as pd\n",
    "import matplotlib.pyplot as plt\n",
    "from statsmodels.stats.contingency_tables import mcnemar\n",
    "\n",
    "# Reading the CSV files\n",
    "gum_bleeding_1_num = pd.read_csv('D:\\\\DSPH\\\\Gum-Bleeding.csv')\n",
    "gum_bleeding_2_num = pd.read_csv('D:\\\\DSPH\\\\Gum bleeding 2.csv')\n",
    "\n",
    "# Convert \"Yes\"/\"No\" to 1/0 for both datasets\n",
    "gum_bleeding_1_num = gum_bleeding_1_num.replace({'Yes': 1, 'No': 0}).drop('Weeks', axis=1)\n",
    "gum_bleeding_2_num = gum_bleeding_2_num.replace({'Yes': 1, 'No': 0}).drop('Weeks', axis=1)\n",
    "\n",
    "# Function to create a contingency table and apply McNemar's test\n",
    "def perform_mcnemars_test(participant_data_1, participant_data_2):\n",
    "    # Create a contingency table\n",
    "    a = ((participant_data_1 == 0) & (participant_data_2 == 0)).sum()\n",
    "    b = ((participant_data_1 == 0) & (participant_data_2 == 1)).sum()\n",
    "    c = ((participant_data_1 == 1) & (participant_data_2 == 0)).sum()\n",
    "    d = ((participant_data_1 == 1) & (participant_data_2 == 1)).sum()\n",
    "    \n",
    "    table = [[a, b], [c, d]]\n",
    "    \n",
    "    # Apply McNemar's test\n",
    "    result = mcnemar(table, exact=True)\n",
    "    \n",
    "    return table, result.pvalue\n",
    "\n",
    "# Apply McNemar's test for each participant and store results\n",
    "mcnemars_results = {}\n",
    "for participant in gum_bleeding_1_num.columns:\n",
    "    # Ensure both datasets have the same length by trimming or padding the second dataset\n",
    "    participant_data_1 = gum_bleeding_1_num[participant]\n",
    "    participant_data_2 = gum_bleeding_2_num[participant][:len(participant_data_1)]\n",
    "    \n",
    "    table, p_value = perform_mcnemars_test(participant_data_1, participant_data_2)\n",
    "    mcnemars_results[participant] = {'table': table, 'p-value': p_value}\n",
    "\n",
    "# Display  results\n",
    "for participant, result in mcnemars_results.items():\n",
    "    print(f\"Participant: {participant}, Contingency Table: {result['table']}, p-value: {result['p-value']}\")\n"
   ]
  },
  {
   "cell_type": "markdown",
   "metadata": {},
   "source": [
    "#visualization"
   ]
  },
  {
   "cell_type": "code",
   "execution_count": null,
   "metadata": {},
   "outputs": [],
   "source": [
    "# E corresponding p-values\n",
    "participants = list(mcnemars_results.keys())\n",
    "p_values = [mcnemars_results[participant]['p-value'] for participant in participants]\n",
    "\n",
    "# Creating the plot\n",
    "plt.figure(figsize=(10, 6))\n",
    "bars = plt.bar(participants, p_values, color='skyblue')\n",
    "\n",
    "# Adding a horizontal line \n",
    "plt.axhline(y=0.05, color='r', linestyle='--')\n",
    "\n",
    "for bar, p_value in zip(bars, p_values):\n",
    "    plt.text(bar.get_x() + bar.get_width() / 2, bar.get_height(), f\"{p_value:.4f}\", \n",
    "             ha='center', va='bottom')\n",
    "\n",
    "# title and labels\n",
    "plt.title(\"McNemar's Test P-values for Each Participant\")\n",
    "plt.xlabel('Participant')\n",
    "plt.ylabel('P-value')\n",
    "plt.ylim(0, 1.1) \n",
    "\n",
    "# Showing the plot\n",
    "plt.show()\n"
   ]
  }
 ],
 "metadata": {
  "kernelspec": {
   "display_name": "base",
   "language": "python",
   "name": "python3"
  },
  "language_info": {
   "codemirror_mode": {
    "name": "ipython",
    "version": 3
   },
   "file_extension": ".py",
   "mimetype": "text/x-python",
   "name": "python",
   "nbconvert_exporter": "python",
   "pygments_lexer": "ipython3",
   "version": "3.11.5"
  }
 },
 "nbformat": 4,
 "nbformat_minor": 2
}
