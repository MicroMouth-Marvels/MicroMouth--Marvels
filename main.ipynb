{
 "cells": [
  {
   "cell_type": "code",
<<<<<<< HEAD
   "execution_count": 1,
=======
   "execution_count": 7,
>>>>>>> bb3ea7f37ef12ce1e402d01b549c6d1b17a6805e
   "id": "9ad7cc9d",
   "metadata": {},
   "outputs": [],
   "source": [
    "import matplotlib.pyplot as plt\n",
    "import pandas as pd\n",
    "import numpy as np\n",
    "import yaml\n",
    "import seaborn as sns\n",
    "import ipywidgets as widgets\n",
    "\n",
    "def get_config():\n",
    "    with open(\"config.yml\", \"r\") as my_config:\n",
    "        config = yaml.safe_load(my_config)\n",
    "    return config\n",
    "config = get_config()\n",
    "        \n",
    "df_before_ph = pd.read_csv(config['ph'])\n",
    "df_before_plaque = pd.read_csv(config['plaque'])\n",
    "df_before_gum_bleeding = pd.read_csv(config['gum_bleeding'])\n",
    "df_lifesum = pd.read_csv(config['lifesum'])\n",
    "\n",
    "df_after_ph = pd.read_csv(config['ph'])\n",
    "df_after_plaque = pd.read_csv(config['plaque'])\n",
    "df_after_gum_bleeding = pd.read_csv(config['gum_bleeding'])\n",
    "\n",
    "# Specified colors (corrected hex codes)\n",
    "colors = ['#FE7F2D', '#619B8A', '#FCCA46', '#A1C181', '#233D4D']"
   ]
  },
  {
   "cell_type": "code",
<<<<<<< HEAD
   "execution_count": 2,
=======
   "execution_count": 11,
>>>>>>> bb3ea7f37ef12ce1e402d01b549c6d1b17a6805e
   "id": "9b7358e6",
   "metadata": {},
   "outputs": [
    {
<<<<<<< HEAD
     "data": {
      "application/vnd.jupyter.widget-view+json": {
       "model_id": "890f1e8b7fe948e0a76ad37614c202f8",
       "version_major": 2,
       "version_minor": 0
      },
      "text/plain": [
       "interactive(children=(Dropdown(description='Participant:', options=('Participant 1', 'Participant 2', 'Partici…"
      ]
     },
     "execution_count": 2,
     "metadata": {},
     "output_type": "execute_result"
=======
     "name": "stderr",
     "output_type": "stream",
     "text": [
      "Widget Javascript not detected.  It may not be installed or enabled properly. Reconnecting the current kernel may help.\n"
     ]
    },
    {
     "data": {
      "application/vnd.jupyter.widget-view+json": {
       "model_id": "0520f1a21e21427ab4b7cf8c433e886f"
      }
     },
     "metadata": {},
     "output_type": "display_data"
>>>>>>> bb3ea7f37ef12ce1e402d01b549c6d1b17a6805e
    }
   ],
   "source": [
    "\n",
    "# Cleanup and preparation\n",
    "df_before_ph_cleaned = df_before_ph.dropna()\n",
    "df_after_ph_cleaned = df_after_ph.dropna()\n",
    "\n",
    "df_before_ph_sorted = df_before_ph_cleaned.sort_values(by='Weeks')\n",
    "df_after_ph_sorted = df_after_ph_cleaned.sort_values(by='Weeks')\n",
    "\n",
    "weeks_before = df_before_ph_sorted['Weeks']\n",
    "weeks_after = df_after_ph_sorted['Weeks']\n",
    "\n",
    "participants = df_before_ph_sorted.columns[1:].tolist()\n",
    "\n",
    "# Function to plot data for selected participant\n",
    "def plot_data(participant):\n",
    "    fig, axes = plt.subplots(nrows=1, ncols=2, figsize=(15, 6))\n",
    "    \n",
    "    if participant in df_before_ph_sorted.columns:\n",
    "        axes[0].plot(weeks_before, df_before_ph_sorted[participant], marker='o', label='Before', color='blue')\n",
    "        axes[0].set_title(f'{participant} - Before')\n",
    "        axes[0].set_xlabel('Weeks')\n",
    "        axes[0].set_ylabel('pH Values')\n",
    "        axes[0].legend()\n",
    "        \n",
    "    if participant in df_after_ph_sorted.columns:\n",
    "        axes[1].plot(weeks_after, df_after_ph_sorted[participant], marker='o', label='After', color='green')\n",
    "        axes[1].set_title(f'{participant} - After')\n",
    "        axes[1].set_xlabel('Weeks')\n",
    "        axes[1].legend()\n",
    "    \n",
    "    plt.tight_layout()\n",
    "    plt.show()\n",
    "\n",
    "# Create a Dropdown widget for participants\n",
    "participant_selector = widgets.Dropdown(\n",
    "    options=participants,\n",
    "    value=participants[0],\n",
    "    description='Participant:',\n",
    ")\n",
    "\n",
    "# Widget interaction\n",
    "widgets.interactive(plot_data, participant=participant_selector)"
   ]
  },
  {
   "cell_type": "code",
   "execution_count": null,
   "id": "40698e4d",
   "metadata": {},
   "outputs": [],
   "source": []
  },
  {
   "cell_type": "code",
   "execution_count": 3,
   "id": "9ed2ec16",
   "metadata": {},
   "outputs": [
    {
     "ename": "NameError",
     "evalue": "name 'df_gum_bleeding' is not defined",
     "output_type": "error",
     "traceback": [
      "\u001b[0;31m---------------------------------------------------------------------------\u001b[0m",
      "\u001b[0;31mNameError\u001b[0m                                 Traceback (most recent call last)",
      "Cell \u001b[0;32mIn[3], line 2\u001b[0m\n\u001b[1;32m      1\u001b[0m \u001b[38;5;66;03m# Convert 'Yes'/'No' to 1/0\u001b[39;00m\n\u001b[0;32m----> 2\u001b[0m \u001b[43mdf_gum_bleeding\u001b[49m\u001b[38;5;241m.\u001b[39mreplace({\u001b[38;5;124m'\u001b[39m\u001b[38;5;124mYes\u001b[39m\u001b[38;5;124m'\u001b[39m: \u001b[38;5;241m1\u001b[39m, \u001b[38;5;124m'\u001b[39m\u001b[38;5;124myes\u001b[39m\u001b[38;5;124m'\u001b[39m: \u001b[38;5;241m1\u001b[39m, \u001b[38;5;124m'\u001b[39m\u001b[38;5;124mNo\u001b[39m\u001b[38;5;124m'\u001b[39m: \u001b[38;5;241m0\u001b[39m, \u001b[38;5;124m'\u001b[39m\u001b[38;5;124mNO\u001b[39m\u001b[38;5;124m'\u001b[39m: \u001b[38;5;241m0\u001b[39m, \u001b[38;5;124m'\u001b[39m\u001b[38;5;124mno\u001b[39m\u001b[38;5;124m'\u001b[39m: \u001b[38;5;241m0\u001b[39m}, inplace\u001b[38;5;241m=\u001b[39m\u001b[38;5;28;01mTrue\u001b[39;00m)\n\u001b[1;32m      4\u001b[0m \u001b[38;5;66;03m# Create violin plot for each participant with specified colors\u001b[39;00m\n\u001b[1;32m      5\u001b[0m plt\u001b[38;5;241m.\u001b[39mfigure(figsize\u001b[38;5;241m=\u001b[39m(\u001b[38;5;241m12\u001b[39m, \u001b[38;5;241m6\u001b[39m))\n",
      "\u001b[0;31mNameError\u001b[0m: name 'df_gum_bleeding' is not defined"
     ]
    }
   ],
   "source": [
    "# Convert 'Yes'/'No' to 1/0\n",
    "df_gum_bleeding.replace({'Yes': 1, 'yes': 1, 'No': 0, 'NO': 0, 'no': 0}, inplace=True)\n",
    "\n",
    "# Create violin plot for each participant with specified colors\n",
    "plt.figure(figsize=(12, 6))\n",
    "sns.violinplot(data=df_gum_bleeding, palette=colors)\n",
    "plt.xlabel('Participants')\n",
    "plt.ylabel('Count of Yes Responses')\n",
    "plt.title('Violin Plot of Yes Responses for Each Participant')\n",
    "plt.xticks(rotation=45)\n",
    "plt.show()\n",
    "\n",
    "# Make a scatter plot for each participant. On the x-as the date and on the y-as the yes/no value. Maybe for each participant a differnt colour, show maybe show them toghter. "
   ]
  },
  {
   "cell_type": "code",
<<<<<<< HEAD
   "execution_count": 4,
   "id": "46d3f8d7",
   "metadata": {},
   "outputs": [
    {
     "ename": "NameError",
     "evalue": "name 'df_plaque' is not defined",
     "output_type": "error",
     "traceback": [
      "\u001b[0;31m---------------------------------------------------------------------------\u001b[0m",
      "\u001b[0;31mNameError\u001b[0m                                 Traceback (most recent call last)",
      "Cell \u001b[0;32mIn[4], line 2\u001b[0m\n\u001b[1;32m      1\u001b[0m plt\u001b[38;5;241m.\u001b[39mfigure(figsize\u001b[38;5;241m=\u001b[39m(\u001b[38;5;241m10\u001b[39m, \u001b[38;5;241m6\u001b[39m))\n\u001b[0;32m----> 2\u001b[0m sns\u001b[38;5;241m.\u001b[39mboxplot(data\u001b[38;5;241m=\u001b[39m\u001b[43mdf_plaque\u001b[49m, palette\u001b[38;5;241m=\u001b[39mcolors)\n\u001b[1;32m      3\u001b[0m plt\u001b[38;5;241m.\u001b[39mtitle(\u001b[38;5;124m'\u001b[39m\u001b[38;5;124mBox Plot of Plaque Values\u001b[39m\u001b[38;5;124m'\u001b[39m)\n\u001b[1;32m      4\u001b[0m plt\u001b[38;5;241m.\u001b[39mxlabel(\u001b[38;5;124m'\u001b[39m\u001b[38;5;124mParticipants\u001b[39m\u001b[38;5;124m'\u001b[39m)\n",
      "\u001b[0;31mNameError\u001b[0m: name 'df_plaque' is not defined"
     ]
    },
    {
     "data": {
      "text/plain": [
       "<Figure size 1000x600 with 0 Axes>"
      ]
     },
     "metadata": {},
     "output_type": "display_data"
    }
   ],
   "source": [
    "plt.figure(figsize=(10, 6))\n",
    "sns.boxplot(data=df_plaque, palette=colors)\n",
    "plt.title('Box Plot of Plaque Values')\n",
    "plt.xlabel('Participants')\n",
    "plt.ylabel('Plaque Values')\n",
    "plt.xticks(rotation=45)\n",
    "plt.grid(True)\n",
    "plt.show()"
   ]
  },
  {
   "cell_type": "code",
=======
>>>>>>> d47a8443b0516dc5804f0f0ffa7754dae6bd55f8
   "execution_count": null,
   "id": "c6b37a9a",
   "metadata": {},
   "outputs": [],
   "source": [
    "# Cleanup and preparation\n",
    "df_before_plaque_cleaned = df_before_plaque.dropna()\n",
    "df_after_plaque_cleaned = df_after_plaque.dropna()\n",
    "\n",
    "df_before_plaque_sorted = df_before_plaque_cleaned.sort_values(by='Weeks')\n",
    "df_after_plaque_sorted = df_after_plaque_cleaned.sort_values(by='Weeks')\n",
    "\n",
    "weeks_before = df_before_plaque_sorted['Weeks']\n",
    "weeks_after = df_after_plaque_sorted['Weeks']\n",
    "\n",
    "participants = df_before_plaque_sorted.columns[1:].tolist()\n",
    "\n",
    "# Function to plot data for selected participant\n",
    "def plot_data(participant):\n",
    "    fig, axes = plt.subplots(nrows=1, ncols=2, figsize=(15, 6))\n",
    "    \n",
    "    if participant in df_before_ph_sorted.columns:\n",
    "        axes[0].plot(weeks_before, df_before_plaque_sorted[participant], marker='o', label='Before', color='blue')\n",
    "        axes[0].set_title(f'{participant} - Before')\n",
    "        axes[0].set_xlabel('Weeks')\n",
    "        axes[0].set_ylabel('Amount of tooth with plaque')\n",
    "        axes[0].legend()\n",
    "        \n",
    "    if participant in df_after_plaque_sorted.columns:\n",
    "        axes[1].plot(weeks_after, df_after_plaque_sorted[participant], marker='o', label='After', color='green')\n",
    "        axes[1].set_title(f'{participant} - After')\n",
    "        axes[1].set_xlabel('Weeks')\n",
    "        axes[1].legend()\n",
    "    \n",
    "    plt.tight_layout()\n",
    "    plt.show()\n",
    "\n",
    "# Create a Dropdown widget for participants\n",
    "participant_selector = widgets.Dropdown(\n",
    "    options=participants,\n",
    "    value=participants[0],\n",
    "    description='Participant:',\n",
    ")\n",
    "\n",
    "# Widget interaction\n",
    "widgets.interactive(plot_data, participant=participant_selector)\n"
   ]
  },
  {
   "cell_type": "code",
   "execution_count": 5,
   "id": "0c16f27d",
   "metadata": {},
   "outputs": [
    {
     "data": {
      "image/png": "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",
      "text/plain": [
       "<Figure size 1000x600 with 1 Axes>"
      ]
     },
     "metadata": {},
     "output_type": "display_data"
    }
   ],
   "source": [
    "def plot_lactobacillus_consumption_avg(df_lifesum):\n",
    "    # Ensure the DataFrame does not modify the original data\n",
    "    df_lifesum_copy = df_lifesum.fillna(0)\n",
    "   \n",
    "    # Excluding the first column if it's assumed to be non-participant data\n",
    "    participants = df_lifesum_copy.columns[1:]  # Participant names\n",
    "   \n",
    "    # Compute average consumption for each column, excluding the first\n",
    "    avg_consumption = df_lifesum_copy.iloc[:, 1:].mean()\n",
    "\n",
    "    # Sanity check for length alignment\n",
    "    if len(participants) != len(avg_consumption):\n",
    "        raise ValueError(\"The number of participants and average consumption values do not match.\")\n",
    "   \n",
    "    plt.figure(figsize=(10, 6))\n",
    "    plt.bar(participants, avg_consumption, color='skyblue')\n",
    "    plt.title('Average Consumption of Lactobacillus for Each Person')\n",
    "    plt.xlabel('Participants')\n",
    "    plt.ylabel('Average Consumption')\n",
    "    plt.xticks(rotation=45)\n",
    "    plt.grid(axis='y')\n",
    "    plt.show()\n",
    "\n",
    "# Plot average consumption of lactobacillus for each person\n",
    "plot_lactobacillus_consumption_avg(df_lifesum)"
   ]
  },
  {
   "cell_type": "code",
   "execution_count": 10,
   "id": "29a3d624",
   "metadata": {},
   "outputs": [],
   "source": [
    "#plot for gumbleeding\n",
    "\n",
    "def plot_participants(df_before_gum_bleeding):\n",
    "    colors = ['red' if status == 'Yes' else 'blue' for status in df_before_gum_bleeding.iloc[:, 1:].values.flatten()]\n",
    "\n",
    "#plot the data\n",
    "    plt.figure(figsize=(10,5))\n",
    "    plt.plot(df_before_gum_bleeding['Weeks'],df_before_gum_bleeding.iloc[:, 1:], marker='o', linestyle='-',color='black')\n",
    "    for i, Paricipant in enumerate(df_before_gum_bleeding.columns[1:]):\n",
    "        plt.scatter(df_before_gum_bleeding['Weeks'], df_before_gum_bleeding[Paricipant], color=colors[i::len(df_before_gum_bleeding.columns)-1])\n",
    "        plt.title(' Amount of gum bleeing baseline period')\n",
    "        plt.xlabel('Weeks')\n",
    "        plt.ylabel('participant')\n",
    "        plt.xticks(rotation=45)\n",
    "        plt.legend(df.columns[1:])\n",
    "        plt.grid(True)\n",
    "        plt.tight_layout()\n",
    "        plt.show()\n",
    "\n",
    "        plot_participants(df_before_gum_bleeding)\n"
   ]
  },
  {
   "cell_type": "code",
   "execution_count": 9,
   "id": "779785bd",
   "metadata": {},
   "outputs": [
    {
     "data": {
      "text/html": [
       "<div>\n",
       "<style scoped>\n",
       "    .dataframe tbody tr th:only-of-type {\n",
       "        vertical-align: middle;\n",
       "    }\n",
       "\n",
       "    .dataframe tbody tr th {\n",
       "        vertical-align: top;\n",
       "    }\n",
       "\n",
       "    .dataframe thead th {\n",
       "        text-align: right;\n",
       "    }\n",
       "</style>\n",
       "<table border=\"1\" class=\"dataframe\">\n",
       "  <thead>\n",
       "    <tr style=\"text-align: right;\">\n",
       "      <th></th>\n",
       "      <th>Weeks</th>\n",
       "      <th>Participant 1</th>\n",
       "      <th>Participant 2</th>\n",
       "      <th>Participant 3</th>\n",
       "      <th>Participant 4</th>\n",
       "      <th>Participant 5</th>\n",
       "    </tr>\n",
       "  </thead>\n",
       "  <tbody>\n",
       "    <tr>\n",
       "      <th>0</th>\n",
       "      <td>01_22</td>\n",
       "      <td>No</td>\n",
       "      <td>No</td>\n",
       "      <td>Yes</td>\n",
       "      <td>No</td>\n",
       "      <td>No</td>\n",
       "    </tr>\n",
       "    <tr>\n",
       "      <th>1</th>\n",
       "      <td>01_23</td>\n",
       "      <td>Yes</td>\n",
       "      <td>No</td>\n",
       "      <td>Yes</td>\n",
       "      <td>No</td>\n",
       "      <td>No</td>\n",
       "    </tr>\n",
       "    <tr>\n",
       "      <th>2</th>\n",
       "      <td>01_24</td>\n",
       "      <td>Yes</td>\n",
       "      <td>No</td>\n",
       "      <td>No</td>\n",
       "      <td>No</td>\n",
       "      <td>No</td>\n",
       "    </tr>\n",
       "    <tr>\n",
       "      <th>3</th>\n",
       "      <td>01_25</td>\n",
       "      <td>Yes</td>\n",
       "      <td>No</td>\n",
       "      <td>No</td>\n",
       "      <td>Yes</td>\n",
       "      <td>No</td>\n",
       "    </tr>\n",
       "    <tr>\n",
       "      <th>4</th>\n",
       "      <td>01_26</td>\n",
       "      <td>No</td>\n",
       "      <td>Yes</td>\n",
       "      <td>No</td>\n",
       "      <td>No</td>\n",
       "      <td>No</td>\n",
       "    </tr>\n",
       "  </tbody>\n",
       "</table>\n",
       "</div>"
      ],
      "text/plain": [
       "   Weeks Participant 1 Participant 2 Participant 3 Participant 4 Participant 5\n",
       "0  01_22            No            No           Yes            No            No\n",
       "1  01_23           Yes            No           Yes            No            No\n",
       "2  01_24           Yes            No            No            No            No\n",
       "3  01_25           Yes            No            No           Yes            No\n",
       "4  01_26            No           Yes            No            No            No"
      ]
     },
     "execution_count": 9,
     "metadata": {},
     "output_type": "execute_result"
    }
   ],
   "source": [
    "df_after_gum_bleeding.head()"
   ]
  },
  {
   "cell_type": "code",
   "execution_count": null,
   "id": "cf202278",
   "metadata": {},
   "outputs": [],
   "source": []
  }
 ],
 "metadata": {
  "kernelspec": {
   "display_name": "Python 3 (ipykernel)",
   "language": "python",
   "name": "python3"
  },
  "language_info": {
   "codemirror_mode": {
    "name": "ipython",
    "version": 3
   },
   "file_extension": ".py",
   "mimetype": "text/x-python",
   "name": "python",
   "nbconvert_exporter": "python",
   "pygments_lexer": "ipython3",
   "version": "3.11.2"
  }
 },
 "nbformat": 4,
 "nbformat_minor": 5
}
