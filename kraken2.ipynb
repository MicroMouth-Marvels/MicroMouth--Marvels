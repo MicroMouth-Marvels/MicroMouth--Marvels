{
 "cells": [
  {
   "cell_type": "markdown",
   "metadata": {},
   "source": [
    "**RUNNING KRAKEN2 ON OUR SEQUENCING READS FROM BOTH SAMPLES FROM THE TEST AND EXPERIMENTAL PERIOD...**"
   ]
  },
  {
   "cell_type": "markdown",
   "metadata": {},
   "source": [
    "During the experiment, the sequencing reads without host, obtained from our DNA extraction from both samples taken during the baseline and the four-week test period from all the five participants, were classified using the kraken2 software program to generate an output report which was later used for further analysis by bracken. \n",
    "\n",
    " \n",
    "Below are the bash commands used for running Kraken2 on a sequencing reads file. Let assume our sequencing file was named input_sequences.fastq. Our Kraken2 database was located at **/data/datasets/KRAKEN2_INDEX/**. Kraken2 was already installed and a database for the krakren2 also set at **/data/datasets/KRAKEN2_INDEX/**. Our output report was named (**my_report.txt**) and the output file named (**my_output.txt**)"
   ]
  },
  {
   "cell_type": "markdown",
   "metadata": {},
   "source": [
    "1. **Run Kraken2:**"
   ]
  },
  {
   "cell_type": "markdown",
   "metadata": {},
   "source": [
    "kraken2 --db /data/datasets/KRAKEN2_INDEX/ --threads 1 --report my_report.txt --output my_output.txt input_sequences.fastq"
   ]
  },
  {
   "cell_type": "markdown",
   "metadata": {},
   "source": [
    "* --db /data/datasets/KRAKEN2_INDEX/: Specifies the path to the Kraken2 database.\n",
    "\n",
    "* --threads 1: Number of threads (default: 1)\n",
    "\n",
    "* --report my_report.txt: Outputs a report that summarizes the classification results to output_report.txt.\n",
    "\n",
    "* --output my_output.txt: Outputs the classification results for each read to output_classification.txt.\n",
    "\n",
    "* input_sequences.fastq: The input sequencing file from \n"
   ]
  },
  {
   "cell_type": "markdown",
   "metadata": {},
   "source": [
    "**RUNNING BRACKEN ON OUR REPORT GENERATED FROM OUR KRAKEN2 SOFTWARE...**"
   ]
  },
  {
   "cell_type": "markdown",
   "metadata": {},
   "source": [
    "Bracken was supposed to be used to generate an output report from the kraken2 software program with the classified read counts and estimated the abundance of each taxon in the samples obtained from the five participants from the baseline and four-week test period and further used in for vizualiztion but no report was generated, unfortunately after running the bracken program.\n",
    "\n",
    "But below are the bash commands used for installing and running bracken on the report generated from the kraken2. Bracken was not installed on our system, so we installed it before running it on our generated report from the kraken2.\n"
   ]
  },
  {
   "cell_type": "markdown",
   "metadata": {},
   "source": [
    "2. **installing Bracken:**"
   ]
  },
  {
   "cell_type": "markdown",
   "metadata": {},
   "source": [
    "* cd ~/DSLS/ \n",
    "\n",
    "* git clone https://github.com/jenniferlu717/Bracken.git \n",
    "\n",
    "* cd Bracken sh install_bracken.sh \n",
    "\n",
    "* cd ~/bin/ \n",
    "\n",
    "* ln -s ~/DSLS/Bracken/bracken . \n",
    "\n",
    "* ln -s ~/DSLS/Bracken/bracken-build .\n",
    "\n",
    "This shows that we had our DSLS folder in our home (location to put the bracken)."
   ]
  },
  {
   "cell_type": "markdown",
   "metadata": {},
   "source": [
    "3. **Run Bracken:**"
   ]
  },
  {
   "cell_type": "markdown",
   "metadata": {},
   "source": [
    "* bracken -d <path_to_kraken_database> -i kraken_report.txt -o bracken_output.txt -r <read_length> -l <level> -t <threshold>\n",
    "\n",
    "* <path_to_kraken_database> :  /data/datasets/KRAKEN2_INDEX/\n",
    "\n",
    "* kraken_report.txt : my_report.txt\n",
    "\n",
    "* bracken_output.txt : micromouth.txt\n",
    "\n",
    "* <read_length> (default: 100) : 100\n",
    "\n",
    "* <level>  (default: S) : S\n",
    "\n",
    "* <threshold> (default: 0) : 0\n",
    "\n"
   ]
  },
  {
   "cell_type": "markdown",
   "metadata": {},
   "source": [
    "4. **Bash command used in running bracken on our output report from kraken2**"
   ]
  },
  {
   "cell_type": "markdown",
   "metadata": {},
   "source": [
    "bracken -d  /data/datasets/KRAKEN2_INDEX/ -i my_report.txt -o micromouth.txt -r 100 -l S -t 0\n"
   ]
  },
  {
   "cell_type": "markdown",
   "metadata": {},
   "source": [
    "* <path_to_kraken_database> :  /data/datasets/KRAKEN2_INDEX/ (Echoes the current software version and exits location of Kraken database)\n",
    "\n",
    "* kraken_report.txt : my_report.txt (Kraken REPORT file to use for abundance estimation file name for Bracken default output)\n",
    "\n",
    "* bracken_output.txt : micromouth.txt (New Kraken REPORT output file with Bracken read estimates)  \n",
    "\n",
    "* <read_length> (default: 100) : 100 (read length to get all classifications for (default: 100))\n",
    "\n",
    "* <level>  (default: S) : S (level to estimate abundance at [options: D,P,C,O,F,G,S, S1, etc](default: S))\n",
    "\n",
    "* <threshold> (default: 0) : 0 (number of reads required PRIOR to abundance estimation to perform reestimation (default: 0))"
   ]
  }
 ],
 "metadata": {
  "language_info": {
   "name": "python"
  }
 },
 "nbformat": 4,
 "nbformat_minor": 2
}
