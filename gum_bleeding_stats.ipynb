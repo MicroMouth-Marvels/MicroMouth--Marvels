{
 "cells": [
  {
   "cell_type": "code",
   "execution_count": 2,
   "metadata": {},
   "outputs": [
    {
     "name": "stdout",
     "output_type": "stream",
     "text": [
      "               Total Gum Bleeding Count Before PB  \\\n",
      "participant 1                                   6   \n",
      "participant 2                                   2   \n",
      "participant 3                                   4   \n",
      "participant 4                                   7   \n",
      "participant 5                                   2   \n",
      "\n",
      "               Proportion of Days with Gum Bleeding Before PB  \n",
      "participant 1                                          0.3750  \n",
      "participant 2                                          0.1250  \n",
      "participant 3                                          0.2500  \n",
      "participant 4                                          0.4375  \n",
      "participant 5                                          0.1250  \n",
      "               Total Gum Bleeding Count  Proportion of Days with Gum Bleeding\n",
      "participant 1                         3                              0.107143\n",
      "participant 2                         2                              0.071429\n",
      "participant 3                         2                              0.071429\n",
      "participant 4                         2                              0.071429\n",
      "participant 5                         0                              0.000000\n"
     ]
    }
   ],
   "source": [
    "import pandas as pd\n",
    "\n",
    "#gum bleeding before using the probiotic\n",
    "\n",
    "gum_bleeding_BeforePB = pd.read_csv('/students/2023-2024/master/micromouth_marvels/working/Gum-Bleeding.csv')\n",
    "\n",
    "\n",
    "numerical_gum_bleeding_BeforePB = gum_bleeding_BeforePB.set_index('Weeks').applymap(lambda x: 1 if x == 'Yes' else 0)\n",
    "\n",
    "\n",
    "total_gum_bleeding_counts = numerical_gum_bleeding_BeforePB.sum()\n",
    "\n",
    "\n",
    "total_days_observed = numerical_gum_bleeding_BeforePB.shape[0]\n",
    "proportion_of_days_with_gum_bleeding = total_gum_bleeding_counts / total_days_observed\n",
    "\n",
    "gum_bleeding_BeforePB_stats_df = pd.DataFrame({\n",
    "    'Total Gum Bleeding Count Before PB': total_gum_bleeding_counts,\n",
    "    'Proportion of Days with Gum Bleeding Before PB': proportion_of_days_with_gum_bleeding\n",
    "})\n",
    "\n",
    "print(gum_bleeding_BeforePB_stats_df)\n",
    "\n",
    "\n",
    "\n",
    "#gumbleeding after using the probiotic\n",
    "gum_bleeding_afterPB = pd.read_csv('/students/2023-2024/master/micromouth_marvels/working/Gum bleeding 2.csv')\n",
    "\n",
    "\n",
    "numerical_gum_bleeding_afterPB = gum_bleeding_afterPB.set_index('Weeks').applymap(lambda x: 1 if x == 'Yes' else 0)\n",
    "\n",
    "\n",
    "total_gum_bleeding_counts = numerical_gum_bleeding_afterPB.sum()\n",
    "\n",
    "\n",
    "total_days_observed = numerical_gum_bleeding_afterPB.shape[0]\n",
    "proportion_of_days_with_gum_bleeding = total_gum_bleeding_counts / total_days_observed\n",
    "\n",
    "\n",
    "gum_bleeding_afterPB_stats = pd.DataFrame({\n",
    "    'Total Gum Bleeding Count': total_gum_bleeding_counts,\n",
    "    'Proportion of Days with Gum Bleeding': proportion_of_days_with_gum_bleeding\n",
    "})\n",
    "\n",
    "print(gum_bleeding_afterPB_stats)"
   ]
  }
 ],
 "metadata": {
  "kernelspec": {
   "display_name": "Python 3",
   "language": "python",
   "name": "python3"
  },
  "language_info": {
   "codemirror_mode": {
    "name": "ipython",
    "version": 3
   },
   "file_extension": ".py",
   "mimetype": "text/x-python",
   "name": "python",
   "nbconvert_exporter": "python",
   "pygments_lexer": "ipython3",
   "version": "3.11.2"
  }
 },
 "nbformat": 4,
 "nbformat_minor": 2
}
