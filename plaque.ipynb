{
 "cells": [
  {
   "cell_type": "code",
   "execution_count": null,
   "metadata": {},
   "outputs": [],
   "source": [
    "import matplotlib.pyplot as plt\n",
    "import pandas as pd\n",
    "import numpy as np\n",
    "import yaml\n",
    "import seaborn as sns\n",
    "import ipywidgets as widgets\n",
    "\n",
    "def get_config():\n",
    "    with open(\"config.yml\", \"r\") as my_config:\n",
    "        config = yaml.safe_load(my_config)\n",
    "    return config\n",
    "config = get_config()\n",
    "\n",
    "df_before_plaque = pd.read_csv(config['plaque'])\n",
    "df_after_plaque = pd.read_csv(config['plaque'])\n",
    "\n",
    "# Specified colors (corrected hex codes)\n",
    "colors = ['#FE7F2D', '#619B8A', '#FCCA46', '#A1C181', '#233D4D']"
   ]
  },
  {
   "cell_type": "code",
   "execution_count": null,
   "metadata": {},
   "outputs": [],
   "source": [
    "# Cleanup and preparation\n",
    "df_before_plaque_cleaned = df_before_plaque.dropna()\n",
    "df_after_plaque_cleaned = df_after_plaque.dropna()\n",
    "\n",
    "df_before_plaque_sorted = df_before_plaque_cleaned.sort_values(by='Weeks')\n",
    "df_after_plaque_sorted = df_after_plaque_cleaned.sort_values(by='Weeks')\n",
    "\n",
    "weeks_before = df_before_plaque_sorted['Weeks']\n",
    "weeks_after = df_after_plaque_sorted['Weeks']\n",
    "\n",
    "participants = df_before_plaque_sorted.columns[1:].tolist()\n",
    "\n",
    "# Function to plot data for selected participant\n",
    "def plot_data(participant):\n",
    "    fig, axes = plt.subplots(nrows=1, ncols=2, figsize=(15, 6))\n",
    "    \n",
    "    if participant in df_before_plaque_sorted.columns:\n",
    "        axes[0].plot(weeks_before, df_before_plaque_sorted[participant], marker='o', label='Before probiotics', color='blue')\n",
    "        axes[0].set_title(f'{participant} - Before probiotics')\n",
    "        axes[0].set_xlabel('Weeks')\n",
    "        axes[0].set_ylabel('Amount of tooth with plaque')\n",
    "        axes[0].legend()\n",
    "        \n",
    "    if participant in df_after_plaque_sorted.columns:\n",
    "        axes[1].plot(weeks_after, df_after_plaque_sorted[participant], marker='o', label='After probiotics', color='green')\n",
    "        axes[1].set_title(f'{participant} - After probiotics')\n",
    "        axes[1].set_xlabel('Weeks')\n",
    "        axes[1].legend()\n",
    "    \n",
    "    plt.tight_layout()\n",
    "    plt.show()\n",
    "\n",
    "# Create a Dropdown widget for participants\n",
    "participant_selector = widgets.Dropdown(\n",
    "    options=participants,\n",
    "    value=participants[0],\n",
    "    description='Participant:',\n",
    ")\n",
    "\n",
    "# Widget interaction\n",
    "widgets.interactive(plot_data, participant=participant_selector)"
   ]
  },
  {
   "cell_type": "code",
   "execution_count": null,
   "metadata": {},
   "outputs": [],
   "source": [
    "import panel as pn\n",
    "pn.extension()"
   ]
  },
  {
   "cell_type": "code",
   "execution_count": null,
   "metadata": {},
   "outputs": [],
   "source": [
    "# Cleanup and preparation\n",
    "df_before_plaque_cleaned = df_before_plaque.dropna()\n",
    "df_after_plaque_cleaned = df_after_plaque.dropna()\n",
    "\n",
    "df_before_plaque_sorted = df_before_plaque_cleaned.sort_values(by='Weeks')\n",
    "df_after_plaque_sorted = df_after_plaque_cleaned.sort_values(by='Weeks')\n",
    "\n",
    "weeks_before = df_before_plaque_sorted['Weeks']\n",
    "weeks_after = df_after_plaque_sorted['Weeks']\n",
    "\n",
    "participants = df_before_plaque_sorted.columns[1:].tolist()\n",
    "\n",
    "# Function to plot data for selected participant\n",
    "def render_plot(participant):\n",
    "    fig, axes = plt.subplots(nrows=1, ncols=2, figsize=(15, 6))\n",
    "    \n",
    "    if participant in df_before_plaque_sorted.columns:\n",
    "        axes[0].plot(weeks_before, df_before_plaque_sorted[participant], marker='o', label='Before probiotics', color='blue')\n",
    "        axes[0].set_title(f'{participant} - Before probiotics')\n",
    "        axes[0].set_xlabel('Weeks')\n",
    "        axes[0].set_ylabel('Amount of tooth with plaque')\n",
    "        axes[0].legend()\n",
    "        \n",
    "    if participant in df_after_plaque_sorted.columns:\n",
    "        axes[1].plot(weeks_after, df_after_plaque_sorted[participant], marker='o', label='After probiotics', color='green')\n",
    "        axes[1].set_title(f'{participant} - After probiotics')\n",
    "        axes[1].set_xlabel('Weeks')\n",
    "        axes[1].legend()\n",
    "    \n",
    "    plt.tight_layout()\n",
    "    plt.show()\n",
    "\n",
    "# Create a Dropdown widget for participants\n",
    "participant_selector = pn.widgets.Select(name='participants', options=participants)\n",
    "\n",
    "\n",
    "# Widget interaction\n",
    "interactive_plot= pn.bind(render_plot, participant_selector)\n",
    "\n",
    "\n",
    "pn.Row(\n",
    "    pn.WidgetBox(participant_selector),  \n",
    "    interactive_plot\n",
    ")"
   ]
  },
  {
   "cell_type": "code",
   "execution_count": null,
   "metadata": {},
   "outputs": [],
   "source": [
    "inter_plot = widgets.interactive(render_plot, participant=participant_selector)\n",
    "inter_plot\n",
    "x"
   ]
  },
  {
   "cell_type": "code",
   "execution_count": null,
   "metadata": {},
   "outputs": [],
   "source": [
    "main_panel = pn.Row(\n",
    "    pn.Column(inter_plot),\n",
    "    pn.Column(df_before_plaque_sorted.describe(), df_after_plaque_sorted.describe())\n",
    ")\n",
    "\n",
    "dashboard = pn.template.BootstrapTemplate(title='dashboard', sidebar_width=200)\n",
    "dashboard.sidebar.append(inter_plot[0])\n",
    "dashboard.main.append(main_panel)\n",
    "dashboard.show()"
   ]
  },
  {
   "cell_type": "code",
   "execution_count": null,
   "metadata": {},
   "outputs": [],
   "source": []
  }
 ],
 "metadata": {
  "kernelspec": {
   "display_name": "Python 3",
   "language": "python",
   "name": "python3"
  },
  "language_info": {
   "codemirror_mode": {
    "name": "ipython",
    "version": 3
   },
   "file_extension": ".py",
   "mimetype": "text/x-python",
   "name": "python",
   "nbconvert_exporter": "python",
   "pygments_lexer": "ipython3",
   "version": "3.10.8"
  }
 },
 "nbformat": 4,
 "nbformat_minor": 2
}
