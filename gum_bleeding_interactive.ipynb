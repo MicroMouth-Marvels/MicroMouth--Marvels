{
 "cells": [
  {
   "cell_type": "code",
   "execution_count": 4,
   "metadata": {},
   "outputs": [],
   "source": [
    "import pandas as pd\n",
    "import matplotlib.pyplot as plt\n",
    "from ipywidgets import interactive\n",
    "import numpy as np\n",
    "\n"
   ]
  },
  {
   "cell_type": "code",
   "execution_count": 5,
   "metadata": {},
   "outputs": [],
   "source": [
    "df1 = pd.read_csv('D:/Gum-Bleeding.csv')\n",
    "df2 = pd.read_csv('D:/Gum-Bleeding - Copy.csv')\n"
   ]
  },
  {
   "cell_type": "code",
   "execution_count": 6,
   "metadata": {},
   "outputs": [],
   "source": [
    "def plot_data(participant):\n",
    "    #'Yes' and 'No' to numerical values\n",
    "    y_values1 = df1[participant].map({'Yes': 1,'yes':1, 'No': 0,'no':0})\n",
    "    y_values2 = df2[participant].map({'Yes': 1,'yes':1 ,'No': 0,'no':0})\n",
    "\n",
    "     \n",
    "\n",
    "    fig, axs = plt.subplots(1, 2, figsize=(15, 6)) \n",
    "\n",
    "    # Plot for the first CSV\n",
    "    axs[0].scatter(df1['Weeks'], y_values1, c=y_values1, cmap='coolwarm', edgecolor='k', label=participant)\n",
    "    axs[0].set_title(f'Participant {participant} - File 1')\n",
    "    axs[0].set_xlabel('Weeks')\n",
    "    axs[0].set_ylabel('Gum Bleeding (Yes=1, No=0)')\n",
    "    axs[0].set_yticks([0, 1])\n",
    "    axs[0].tick_params(axis='x', rotation=45)  # rotate 45 degree for  overlapping\n",
    "    axs[0].grid(True)\n",
    "\n",
    "    # Plot for the second CSV\n",
    "    axs[1].scatter(df2['Weeks'], y_values2, c=y_values2, cmap='coolwarm', edgecolor='k', label=participant)\n",
    "    axs[1].set_title(f'Participant {participant} - File 2')\n",
    "    axs[1].set_xlabel('Weeks')\n",
    "    axs[1].set_ylabel('Gum Bleeding (Yes=1, No=0)')\n",
    "    axs[1].set_yticks([0, 1])\n",
    "    axs[1].tick_params(axis='x', rotation=45)  # rotate 45 degree for  overlapping\n",
    "    axs[1].grid(True)\n",
    "\n",
    "    plt.tight_layout()\n",
    "    plt.show()\n",
    "\n"
   ]
  },
  {
   "cell_type": "code",
   "execution_count": 7,
   "metadata": {},
   "outputs": [
    {
     "data": {
      "application/vnd.jupyter.widget-view+json": {
       "model_id": "1221eef9170d4b5b95717bc7dc250326",
       "version_major": 2,
       "version_minor": 0
      },
      "text/plain": [
       "interactive(children=(Dropdown(description='participant', options=('Participant 1', 'Participant 2', 'Particip…"
      ]
     },
     "metadata": {},
     "output_type": "display_data"
    }
   ],
   "source": [
    "participants = df1.columns[1:]  \n",
    "interactive_plot = interactive(plot_data, participant=participants)\n",
    "display(interactive_plot)\n"
   ]
  },
  {
   "cell_type": "code",
   "execution_count": null,
   "metadata": {},
   "outputs": [],
   "source": []
  }
 ],
 "metadata": {
  "kernelspec": {
   "display_name": "base",
   "language": "python",
   "name": "python3"
  },
  "language_info": {
   "codemirror_mode": {
    "name": "ipython",
    "version": 3
   },
   "file_extension": ".py",
   "mimetype": "text/x-python",
   "name": "python",
   "nbconvert_exporter": "python",
   "pygments_lexer": "ipython3",
   "version": "3.11.5"
  }
 },
 "nbformat": 4,
 "nbformat_minor": 2
}
