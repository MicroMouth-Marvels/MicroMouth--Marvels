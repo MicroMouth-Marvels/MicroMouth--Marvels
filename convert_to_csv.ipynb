{
 "cells": [
  {
   "cell_type": "code",
   "execution_count": 6,
   "metadata": {},
   "outputs": [],
   "source": [
    "import pandas as pd\n",
    "import yaml\n",
    "\n",
    "def get_config():\n",
    "    with open(\"config.yml\", \"r\") as my_config:\n",
    "        config = yaml.safe_load(my_config)\n",
    "    return config\n",
    "\n",
    "config = get_config()\n",
    "\n",
    "# Corrected: Use `pd.read_excel` for Excel files, specifying the file path from the config\n",
    "excel_file = pd.ExcelFile(config['my_data'])\n",
    "\n",
    "# Loop through each sheet in the Excel file\n",
    "for sheet_name in excel_file.sheet_names:\n",
    "    # Corrected: Read the sheet into a DataFrame from the ExcelFile object\n",
    "    df = pd.read_excel(excel_file, sheet_name=sheet_name)\n",
    "    \n",
    "    # Define the CSV file name\n",
    "    csv_file_name = f'{sheet_name}.csv'\n",
    "    \n",
    "    # Write the DataFrame to a CSV file\n",
    "    df.to_csv(csv_file_name, index=False)"
   ]
  }
 ],
 "metadata": {
  "kernelspec": {
   "display_name": "Python 3",
   "language": "python",
   "name": "python3"
  },
  "language_info": {
   "codemirror_mode": {
    "name": "ipython",
    "version": 3
   },
   "file_extension": ".py",
   "mimetype": "text/x-python",
   "name": "python",
   "nbconvert_exporter": "python",
   "pygments_lexer": "ipython3",
   "version": "3.11.2"
  }
 },
 "nbformat": 4,
 "nbformat_minor": 2
}
