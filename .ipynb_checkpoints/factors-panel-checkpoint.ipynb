{
 "cells": [
  {
   "cell_type": "code",
   "execution_count": 1,
   "metadata": {},
   "outputs": [
    {
     "ename": "ModuleNotFoundError",
     "evalue": "No module named 'bokeh'",
     "output_type": "error",
     "traceback": [
      "\u001b[0;31m---------------------------------------------------------------------------\u001b[0m",
      "\u001b[0;31mModuleNotFoundError\u001b[0m                       Traceback (most recent call last)",
      "Cell \u001b[0;32mIn [1], line 1\u001b[0m\n\u001b[0;32m----> 1\u001b[0m \u001b[38;5;28;01mfrom\u001b[39;00m \u001b[38;5;21;01mbokeh\u001b[39;00m\u001b[38;5;21;01m.\u001b[39;00m\u001b[38;5;21;01mplotting\u001b[39;00m \u001b[38;5;28;01mimport\u001b[39;00m figure, show, output_file\n\u001b[1;32m      2\u001b[0m \u001b[38;5;28;01mfrom\u001b[39;00m \u001b[38;5;21;01mbokeh\u001b[39;00m\u001b[38;5;21;01m.\u001b[39;00m\u001b[38;5;21;01mmodels\u001b[39;00m \u001b[38;5;28;01mimport\u001b[39;00m ColumnDataSource, Select\n\u001b[1;32m      3\u001b[0m \u001b[38;5;28;01mfrom\u001b[39;00m \u001b[38;5;21;01mbokeh\u001b[39;00m\u001b[38;5;21;01m.\u001b[39;00m\u001b[38;5;21;01mlayouts\u001b[39;00m \u001b[38;5;28;01mimport\u001b[39;00m column\n",
      "\u001b[0;31mModuleNotFoundError\u001b[0m: No module named 'bokeh'"
     ]
    }
   ],
   "source": [
    "from bokeh.plotting import figure, show, output_file\n",
    "from bokeh.models import ColumnDataSource, Select\n",
    "from bokeh.layouts import column\n",
    "from bokeh.io import curdoc\n",
    "import pandas as pd\n",
    "import yaml\n",
    "from bokeh.plotting import figure, curdoc\n",
    "from bokeh.models import ColumnDataSource, Select\n",
    "from bokeh.layouts import column"
   ]
  },
  {
   "cell_type": "code",
   "execution_count": 2,
   "metadata": {},
   "outputs": [
    {
     "ename": "NameError",
     "evalue": "name 'yaml' is not defined",
     "output_type": "error",
     "traceback": [
      "\u001b[0;31m---------------------------------------------------------------------------\u001b[0m",
      "\u001b[0;31mNameError\u001b[0m                                 Traceback (most recent call last)",
      "Cell \u001b[0;32mIn [2], line 5\u001b[0m\n\u001b[1;32m      3\u001b[0m         config \u001b[38;5;241m=\u001b[39m yaml\u001b[38;5;241m.\u001b[39msafe_load(my_config)\n\u001b[1;32m      4\u001b[0m     \u001b[38;5;28;01mreturn\u001b[39;00m config\n\u001b[0;32m----> 5\u001b[0m config \u001b[38;5;241m=\u001b[39m \u001b[43mget_config\u001b[49m\u001b[43m(\u001b[49m\u001b[43m)\u001b[49m\n\u001b[1;32m      7\u001b[0m df_before_ph \u001b[38;5;241m=\u001b[39m pd\u001b[38;5;241m.\u001b[39mread_csv(config[\u001b[38;5;124m'\u001b[39m\u001b[38;5;124mph\u001b[39m\u001b[38;5;124m'\u001b[39m])\n\u001b[1;32m      8\u001b[0m df_before_plaque \u001b[38;5;241m=\u001b[39m pd\u001b[38;5;241m.\u001b[39mread_csv(config[\u001b[38;5;124m'\u001b[39m\u001b[38;5;124mplaque\u001b[39m\u001b[38;5;124m'\u001b[39m])\n",
      "Cell \u001b[0;32mIn [2], line 3\u001b[0m, in \u001b[0;36mget_config\u001b[0;34m()\u001b[0m\n\u001b[1;32m      1\u001b[0m \u001b[38;5;28;01mdef\u001b[39;00m \u001b[38;5;21mget_config\u001b[39m():\n\u001b[1;32m      2\u001b[0m     \u001b[38;5;28;01mwith\u001b[39;00m \u001b[38;5;28mopen\u001b[39m(\u001b[38;5;124m\"\u001b[39m\u001b[38;5;124mconfig.yml\u001b[39m\u001b[38;5;124m\"\u001b[39m, \u001b[38;5;124m\"\u001b[39m\u001b[38;5;124mr\u001b[39m\u001b[38;5;124m\"\u001b[39m) \u001b[38;5;28;01mas\u001b[39;00m my_config:\n\u001b[0;32m----> 3\u001b[0m         config \u001b[38;5;241m=\u001b[39m \u001b[43myaml\u001b[49m\u001b[38;5;241m.\u001b[39msafe_load(my_config)\n\u001b[1;32m      4\u001b[0m     \u001b[38;5;28;01mreturn\u001b[39;00m config\n",
      "\u001b[0;31mNameError\u001b[0m: name 'yaml' is not defined"
     ]
    }
   ],
   "source": [
    "\n",
    "def get_config():\n",
    "    with open(\"config.yml\", \"r\") as my_config:\n",
    "        config = yaml.safe_load(my_config)\n",
    "    return config\n",
    "config = get_config()\n",
    "        \n",
    "df_before_ph = pd.read_csv(config['ph'])\n",
    "df_before_plaque = pd.read_csv(config['plaque'])\n",
    "df_before_gum_bleeding = pd.read_csv(config['gum_bleeding'])\n",
    "df_lifesum = pd.read_csv(config['lifesum'])\n",
    "\n",
    "df_after_ph = pd.read_csv(config['ph2'])\n",
    "df_after_plaque = pd.read_csv(config['plaque2'])\n",
    "df_after_gum_bleeding = pd.read_csv(config['gum_bleeding2'])\n",
    "\n",
    "# Specified colors (corrected hex codes)\n",
    "colors = ['#FE7F2D', '#619B8A', '#FCCA46', '#A1C181', '#233D4D']"
   ]
  },
  {
   "cell_type": "code",
   "execution_count": null,
   "metadata": {},
   "outputs": [],
   "source": [
    "def create_plot(source_data):\n",
    "    p = figure(plot_width=800, plot_height=250, x_axis_label='Weeks', y_axis_label='Value')\n",
    "    p.line('weeks', 'value', source=source_data, line_width=2)\n",
    "    return p"
   ]
  },
  {
   "cell_type": "code",
   "execution_count": null,
   "metadata": {},
   "outputs": [],
   "source": [
    "def update_plot(attr, old, new):\n",
    "    if select.value == 'PH':\n",
    "        source.data = dict(weeks=df_before_ph['Weeks'], value=df_before_ph['Value'])\n",
    "    elif select.value == 'Plaque':\n",
    "        source.data = dict(weeks=df_before_plaque['Weeks'], value=df_before_plaque['Value'])\n",
    "    elif select.value == 'Gum Bleeding':\n",
    "        source.data = dict(weeks=df_before_gum_bleeding['Weeks'], value=df_before_gum_bleeding['Value'])\n",
    "    elif:  # Lifesum\n",
    "        source.data = dict(weeks=df_lifesum['Weeks'], value=df_lifesum['Value'])\n",
    "    elif select.value == 'Plaque2':\n",
    "        source.data = dict(weeks=df_after_plaque['Weeks'], value=df_after_plaque['Value'])\n",
    "    elif select.value == 'Gum Bleeding2':\n",
    "        source.data = dict(weeks=df_after_gum_bleeding['Weeks'], value=df_after_gum_bleeding['Value'])\n",
    "    elif:  select.value == 'PH2':\n",
    "        source.data = dict(weeks=df_after_ph['Weeks'], value=df_after_ph['Value'])\n",
    "    p.yaxis.axis_label = select.value\n"
   ]
  },
  {
   "cell_type": "code",
   "execution_count": null,
   "metadata": {},
   "outputs": [],
   "source": [
    "p = figure()\n",
    "p.width = 800\n",
    "p.height = 250\n",
    "# Initial data\n",
    "source = ColumnDataSource(data=dict(weeks=[], value=[]))\n",
    "\n",
    "# Combo box for selection\n",
    "select = Select(title=\"Choose Data:\", value=\"PH\", options=[\"PH\", \"Plaque\", \"Gum Bleeding\", \"Lifesum\"])\n",
    "select.on_change('value', update_plot)\n",
    "\n",
    "# Create initial plot\n",
    "p = create_plot(source)\n",
    "\n",
    "# Arrange plots and widgets in a layout\n",
    "layout = column(select, p)\n",
    "\n",
    "# Add layout to the current document\n",
    "curdoc().add_root(layout)\n",
    "\n",
    "# Initial update to display default data\n",
    "update_plot(None, None, select.value)\n"
   ]
  }
 ],
 "metadata": {
  "kernelspec": {
   "display_name": "Python 3 (ipykernel)",
   "language": "python",
   "name": "python3"
  },
  "language_info": {
   "codemirror_mode": {
    "name": "ipython",
    "version": 3
   },
   "file_extension": ".py",
   "mimetype": "text/x-python",
   "name": "python",
   "nbconvert_exporter": "python",
   "pygments_lexer": "ipython3",
   "version": "3.11.2"
  }
 },
 "nbformat": 4,
 "nbformat_minor": 2
}
